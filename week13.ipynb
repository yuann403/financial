{
  "nbformat": 4,
  "nbformat_minor": 0,
  "metadata": {
    "colab": {
      "provenance": [],
      "authorship_tag": "ABX9TyMa2MunHZ/NTS2r6oCRRWOK",
      "include_colab_link": true
    },
    "kernelspec": {
      "name": "python3",
      "display_name": "Python 3"
    },
    "language_info": {
      "name": "python"
    }
  },
  "cells": [
    {
      "cell_type": "markdown",
      "metadata": {
        "id": "view-in-github",
        "colab_type": "text"
      },
      "source": [
        "<a href=\"https://colab.research.google.com/github/yuann403/financial/blob/main/week13.ipynb\" target=\"_parent\"><img src=\"https://colab.research.google.com/assets/colab-badge.svg\" alt=\"Open In Colab\"/></a>"
      ]
    },
    {
      "cell_type": "markdown",
      "source": [
        "使用基因演算法實現最佳投資組合選擇。\n",
        "* 每個染色體代表一個投資組合（由多支股票組成，基因為0或1，表示是否選擇該股票）。\n",
        "* 可根據自定義的適應函數（如回報率、風險等）評估投資組合的優劣，並通過初始化族群、選擇、交配及突變，優化出最佳投資組合，最後輸出其回報率、風險和選股結果。"
      ],
      "metadata": {
        "id": "Apej7OZL3oDC"
      }
    },
    {
      "cell_type": "code",
      "source": [
        "import yfinance as yf\n",
        "import numpy as np"
      ],
      "metadata": {
        "id": "u512I_ZY37Sd"
      },
      "execution_count": 1,
      "outputs": []
    },
    {
      "cell_type": "code",
      "source": [
        "# 定義目標台股股票池\n",
        "tickers = ['2330.TW', '2881.TW', '2454.TW']\n",
        "risk_free_rate = 0.01  # 無風險利率，假設為1%\n",
        "\n",
        "# 下載股票歷史數據\n",
        "data = yf.download(tickers, start=\"2020-01-01\", end=\"2023-01-01\", interval=\"1d\")['Adj Close']\n",
        "\n",
        "# 計算每日回報率\n",
        "returns = data.pct_change().dropna()\n",
        "\n",
        "# 計算年化平均回報率和協方差矩陣\n",
        "annual_returns = returns.mean() * 252  # 假設一年252個交易日\n",
        "cov_matrix = returns.cov() * 252"
      ],
      "metadata": {
        "colab": {
          "base_uri": "https://localhost:8080/"
        },
        "id": "W69PhB9w39py",
        "outputId": "f66fb2e2-e8ac-4258-ec88-1e7bb2007eeb"
      },
      "execution_count": 2,
      "outputs": [
        {
          "output_type": "stream",
          "name": "stderr",
          "text": [
            "[*********************100%***********************]  3 of 3 completed\n"
          ]
        }
      ]
    },
    {
      "cell_type": "code",
      "source": [
        "# 適應函數\n",
        "def evaluate_portfolio(chromosome):\n",
        "    selected_indices = np.where(chromosome == 1)[0]\n",
        "    if len(selected_indices) == 0:  # 避免空投資組合\n",
        "        return 0.01  # 返回一個非常小的值以避免無法計算\n",
        "    portfolio_return = np.sum(annual_returns.iloc[selected_indices]) / len(selected_indices)\n",
        "    portfolio_risk = np.sqrt(np.dot(chromosome.T, np.dot(cov_matrix.to_numpy(), chromosome)))\n",
        "    if portfolio_risk == 0:  # 避免風險為零的情況\n",
        "        return 0.01\n",
        "    sharpe_ratio = (portfolio_return - risk_free_rate) / portfolio_risk\n",
        "    return max(sharpe_ratio, 0.01)  # 確保適應函數值為正\n",
        "\n",
        "# 初始化種群\n",
        "def initialize_population(population_size, num_stocks):\n",
        "    return np.random.randint(0, 2, (population_size, num_stocks))\n",
        "\n",
        "# 選擇（輪盤選擇法）\n",
        "def select_population(population, fitness_scores):\n",
        "    fitness_scores = np.maximum(fitness_scores, 0.01)  # 確保適應度值為正\n",
        "    probabilities = fitness_scores / np.sum(fitness_scores)\n",
        "    indices = np.random.choice(range(len(population)), size=len(population), p=probabilities)\n",
        "    return population[indices]\n",
        "\n",
        "# 交叉（單點交叉）\n",
        "def crossover(parent1, parent2):\n",
        "    point = np.random.randint(1, len(parent1) - 1)\n",
        "    child1 = np.concatenate((parent1[:point], parent2[point:]))\n",
        "    child2 = np.concatenate((parent2[:point], parent1[point:]))\n",
        "    return child1, child2\n",
        "\n",
        "# 變異\n",
        "def mutate(chromosome, mutation_rate):\n",
        "    for i in range(len(chromosome)):\n",
        "        if np.random.rand() < mutation_rate:\n",
        "            chromosome[i] = 1 - chromosome[i]\n",
        "    return chromosome"
      ],
      "metadata": {
        "id": "n339C1FX4HHk"
      },
      "execution_count": 3,
      "outputs": []
    },
    {
      "cell_type": "code",
      "source": [
        "# 基因演算法參數\n",
        "population_size = 50\n",
        "generations = 100\n",
        "mutation_rate = 0.02\n",
        "num_stocks = len(tickers)\n",
        "\n",
        "# 基因演算法主程序\n",
        "population = initialize_population(population_size, num_stocks)\n",
        "\n",
        "for generation in range(generations):\n",
        "    # 計算適應度\n",
        "    fitness_scores = np.array([evaluate_portfolio(chromosome) for chromosome in population])\n",
        "\n",
        "    # 選擇新種群\n",
        "    population = select_population(population, fitness_scores)\n",
        "\n",
        "    # 交叉與變異\n",
        "    new_population = []\n",
        "    for i in range(0, len(population), 2):\n",
        "        parent1, parent2 = population[i], population[min(i + 1, len(population) - 1)]\n",
        "        child1, child2 = crossover(parent1, parent2)\n",
        "        new_population.extend([mutate(child1, mutation_rate), mutate(child2, mutation_rate)])\n",
        "    population = np.array(new_population)\n",
        "\n",
        "    # 印出每代的最佳結果\n",
        "    best_index = np.argmax(fitness_scores)\n",
        "    best_portfolio = population[best_index]\n",
        "    best_return = np.sum(annual_returns[best_portfolio == 1])\n",
        "    best_risk = np.sqrt(np.dot(best_portfolio.T, np.dot(cov_matrix.to_numpy(), best_portfolio)))\n",
        "    print(f\"Generation {generation + 1}: Best Return={best_return:.4f}, Best Risk={best_risk:.4f}\")"
      ],
      "metadata": {
        "colab": {
          "base_uri": "https://localhost:8080/"
        },
        "id": "LRR9KXWa3lFa",
        "outputId": "248edd5b-d826-4726-e586-b96ecc3c7bfc",
        "collapsed": true
      },
      "execution_count": 4,
      "outputs": [
        {
          "output_type": "stream",
          "name": "stdout",
          "text": [
            "Generation 1: Best Return=0.3609, Best Risk=0.4665\n",
            "Generation 2: Best Return=0.6185, Best Risk=0.7741\n",
            "Generation 3: Best Return=0.2575, Best Risk=0.4144\n",
            "Generation 4: Best Return=0.2000, Best Risk=0.2557\n",
            "Generation 5: Best Return=0.0000, Best Risk=0.0000\n",
            "Generation 6: Best Return=0.2000, Best Risk=0.2557\n",
            "Generation 7: Best Return=0.2000, Best Risk=0.2557\n",
            "Generation 8: Best Return=0.2000, Best Risk=0.2557\n",
            "Generation 9: Best Return=0.2000, Best Risk=0.2557\n",
            "Generation 10: Best Return=0.2000, Best Risk=0.2557\n",
            "Generation 11: Best Return=0.2000, Best Risk=0.2557\n",
            "Generation 12: Best Return=0.2000, Best Risk=0.2557\n",
            "Generation 13: Best Return=0.2575, Best Risk=0.4144\n",
            "Generation 14: Best Return=0.2000, Best Risk=0.2557\n",
            "Generation 15: Best Return=0.2000, Best Risk=0.2557\n",
            "Generation 16: Best Return=0.2000, Best Risk=0.2557\n",
            "Generation 17: Best Return=0.2000, Best Risk=0.2557\n",
            "Generation 18: Best Return=0.2000, Best Risk=0.2557\n",
            "Generation 19: Best Return=0.2000, Best Risk=0.2557\n",
            "Generation 20: Best Return=0.0000, Best Risk=0.0000\n",
            "Generation 21: Best Return=0.2575, Best Risk=0.4144\n",
            "Generation 22: Best Return=0.2000, Best Risk=0.2557\n",
            "Generation 23: Best Return=0.4576, Best Risk=0.5589\n",
            "Generation 24: Best Return=0.2000, Best Risk=0.2557\n",
            "Generation 25: Best Return=0.2000, Best Risk=0.2557\n",
            "Generation 26: Best Return=0.2000, Best Risk=0.2557\n",
            "Generation 27: Best Return=0.2000, Best Risk=0.2557\n",
            "Generation 28: Best Return=0.2000, Best Risk=0.2557\n",
            "Generation 29: Best Return=0.3609, Best Risk=0.4665\n",
            "Generation 30: Best Return=0.2000, Best Risk=0.2557\n",
            "Generation 31: Best Return=0.2000, Best Risk=0.2557\n",
            "Generation 32: Best Return=0.2000, Best Risk=0.2557\n",
            "Generation 33: Best Return=0.2000, Best Risk=0.2557\n",
            "Generation 34: Best Return=0.2000, Best Risk=0.2557\n",
            "Generation 35: Best Return=0.2000, Best Risk=0.2557\n",
            "Generation 36: Best Return=0.2000, Best Risk=0.2557\n",
            "Generation 37: Best Return=0.2000, Best Risk=0.2557\n",
            "Generation 38: Best Return=0.2000, Best Risk=0.2557\n",
            "Generation 39: Best Return=0.2000, Best Risk=0.2557\n",
            "Generation 40: Best Return=0.2000, Best Risk=0.2557\n",
            "Generation 41: Best Return=0.2000, Best Risk=0.2557\n",
            "Generation 42: Best Return=0.2000, Best Risk=0.2557\n",
            "Generation 43: Best Return=0.2000, Best Risk=0.2557\n",
            "Generation 44: Best Return=0.2000, Best Risk=0.2557\n",
            "Generation 45: Best Return=0.2000, Best Risk=0.2557\n",
            "Generation 46: Best Return=0.2000, Best Risk=0.2557\n",
            "Generation 47: Best Return=0.2000, Best Risk=0.2557\n",
            "Generation 48: Best Return=0.2000, Best Risk=0.2557\n",
            "Generation 49: Best Return=0.2000, Best Risk=0.2557\n",
            "Generation 50: Best Return=0.2000, Best Risk=0.2557\n",
            "Generation 51: Best Return=0.2000, Best Risk=0.2557\n",
            "Generation 52: Best Return=0.2000, Best Risk=0.2557\n",
            "Generation 53: Best Return=0.2000, Best Risk=0.2557\n",
            "Generation 54: Best Return=0.2000, Best Risk=0.2557\n",
            "Generation 55: Best Return=0.2000, Best Risk=0.2557\n",
            "Generation 56: Best Return=0.2000, Best Risk=0.2557\n",
            "Generation 57: Best Return=0.2000, Best Risk=0.2557\n",
            "Generation 58: Best Return=0.2000, Best Risk=0.2557\n",
            "Generation 59: Best Return=0.2000, Best Risk=0.2557\n",
            "Generation 60: Best Return=0.2000, Best Risk=0.2557\n",
            "Generation 61: Best Return=0.2000, Best Risk=0.2557\n",
            "Generation 62: Best Return=0.2000, Best Risk=0.2557\n",
            "Generation 63: Best Return=0.2000, Best Risk=0.2557\n",
            "Generation 64: Best Return=0.2000, Best Risk=0.2557\n",
            "Generation 65: Best Return=0.2000, Best Risk=0.2557\n",
            "Generation 66: Best Return=0.2000, Best Risk=0.2557\n",
            "Generation 67: Best Return=0.2000, Best Risk=0.2557\n",
            "Generation 68: Best Return=0.2000, Best Risk=0.2557\n",
            "Generation 69: Best Return=0.2000, Best Risk=0.2557\n",
            "Generation 70: Best Return=0.2000, Best Risk=0.2557\n",
            "Generation 71: Best Return=0.2000, Best Risk=0.2557\n",
            "Generation 72: Best Return=0.2000, Best Risk=0.2557\n",
            "Generation 73: Best Return=0.2000, Best Risk=0.2557\n",
            "Generation 74: Best Return=0.2000, Best Risk=0.2557\n",
            "Generation 75: Best Return=0.2000, Best Risk=0.2557\n",
            "Generation 76: Best Return=0.2000, Best Risk=0.2557\n",
            "Generation 77: Best Return=0.2000, Best Risk=0.2557\n",
            "Generation 78: Best Return=0.0000, Best Risk=0.0000\n",
            "Generation 79: Best Return=0.2000, Best Risk=0.2557\n",
            "Generation 80: Best Return=0.2000, Best Risk=0.2557\n",
            "Generation 81: Best Return=0.2575, Best Risk=0.4144\n",
            "Generation 82: Best Return=0.2000, Best Risk=0.2557\n",
            "Generation 83: Best Return=0.2000, Best Risk=0.2557\n",
            "Generation 84: Best Return=0.2000, Best Risk=0.2557\n",
            "Generation 85: Best Return=0.2000, Best Risk=0.2557\n",
            "Generation 86: Best Return=0.2000, Best Risk=0.2557\n",
            "Generation 87: Best Return=0.2000, Best Risk=0.2557\n",
            "Generation 88: Best Return=0.4576, Best Risk=0.5589\n",
            "Generation 89: Best Return=0.2000, Best Risk=0.2557\n",
            "Generation 90: Best Return=0.2000, Best Risk=0.2557\n",
            "Generation 91: Best Return=0.2000, Best Risk=0.2557\n",
            "Generation 92: Best Return=0.2000, Best Risk=0.2557\n",
            "Generation 93: Best Return=0.2000, Best Risk=0.2557\n",
            "Generation 94: Best Return=0.2000, Best Risk=0.2557\n",
            "Generation 95: Best Return=0.2000, Best Risk=0.2557\n",
            "Generation 96: Best Return=0.2000, Best Risk=0.2557\n",
            "Generation 97: Best Return=0.2000, Best Risk=0.2557\n",
            "Generation 98: Best Return=0.2000, Best Risk=0.2557\n",
            "Generation 99: Best Return=0.2000, Best Risk=0.2557\n",
            "Generation 100: Best Return=0.2000, Best Risk=0.2557\n"
          ]
        }
      ]
    },
    {
      "cell_type": "code",
      "source": [
        "# 最終結果\n",
        "best_index = np.argmax(fitness_scores)\n",
        "best_portfolio = population[best_index]\n",
        "selected_stocks = [tickers[i] for i in range(num_stocks) if best_portfolio[i] == 1]\n",
        "best_return = np.sum(annual_returns[best_portfolio == 1])\n",
        "best_risk = np.sqrt(np.dot(best_portfolio.T, np.dot(cov_matrix.to_numpy(), best_portfolio)))\n",
        "\n",
        "print(\"最佳投資組合：\")\n",
        "print(f\"選擇的股票：{selected_stocks}\")\n",
        "print(f\"投資組合的回報率：{best_return:.4f}\")\n",
        "print(f\"投資組合的風險：{best_risk:.4f}\")"
      ],
      "metadata": {
        "colab": {
          "base_uri": "https://localhost:8080/"
        },
        "id": "DvOg7IMk4LY8",
        "outputId": "c932f716-b706-46a4-9b7a-4e383024890d"
      },
      "execution_count": 5,
      "outputs": [
        {
          "output_type": "stream",
          "name": "stdout",
          "text": [
            "最佳投資組合：\n",
            "選擇的股票：['2454.TW']\n",
            "投資組合的回報率：0.2000\n",
            "投資組合的風險：0.2557\n"
          ]
        }
      ]
    }
  ]
}